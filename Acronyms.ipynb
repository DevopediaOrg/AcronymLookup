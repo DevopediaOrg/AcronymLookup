{
  "nbformat": 4,
  "nbformat_minor": 0,
  "metadata": {
    "colab": {
      "name": "Acronyms.ipynb",
      "provenance": [],
      "collapsed_sections": []
    },
    "kernelspec": {
      "display_name": "Python 3",
      "name": "python3"
    }
  },
  "cells": [
    {
      "cell_type": "markdown",
      "metadata": {
        "id": "uaFAlpSQaUZm"
      },
      "source": [
        "## 1. Setup"
      ]
    },
    {
      "cell_type": "code",
      "metadata": {
        "id": "JF5sfr8gafav"
      },
      "source": [
        "from google.colab import drive\n",
        "drive.mount('/content/drive')"
      ],
      "execution_count": null,
      "outputs": []
    },
    {
      "cell_type": "code",
      "metadata": {
        "id": "-ahRqP7Zbhsd"
      },
      "source": [
        "Ver = 'v2224'\n",
        "BasePath = '/content/drive/My Drive/NLP-Resources/acronyms.{}'.format(Ver)"
      ],
      "execution_count": null,
      "outputs": []
    },
    {
      "cell_type": "code",
      "metadata": {
        "id": "l-_UR_MGdWgU"
      },
      "source": [
        "!mkdir -p \"$BasePath\""
      ],
      "execution_count": null,
      "outputs": []
    },
    {
      "cell_type": "code",
      "metadata": {
        "id": "mCuK_iBFqC1B"
      },
      "source": [
        "# !wget https://github.com/DevopediaOrg/AcronymLookup/archive/main.zip\n",
        "# !unzip -qq main.zip\n",
        "# !mv AcronymLookup-main/* .\n",
        "!unzip -qq code.zip"
      ],
      "execution_count": null,
      "outputs": []
    },
    {
      "cell_type": "code",
      "metadata": {
        "id": "fY0k2fqtYXLV"
      },
      "source": [
        "!pip install -r requirements.txt"
      ],
      "execution_count": null,
      "outputs": []
    },
    {
      "cell_type": "code",
      "metadata": {
        "id": "TlSCBwlIs0HV"
      },
      "source": [
        "!sudo apt-get -y -qq update\n",
        "!sudo apt-get -y -qq install postgresql\n",
        "!sudo service postgresql start"
      ],
      "execution_count": null,
      "outputs": []
    },
    {
      "cell_type": "code",
      "metadata": {
        "id": "eDj_LhhYtJTI"
      },
      "source": [
        "!sudo -u postgres psql -U postgres -c \"ALTER USER postgres PASSWORD 'pgpwd';\"\n",
        "!sudo -u postgres psql -U postgres -c 'DROP DATABASE IF EXISTS acronyms;'\n",
        "!sudo -u postgres psql -U postgres -c 'CREATE DATABASE acronyms;'"
      ],
      "execution_count": null,
      "outputs": []
    },
    {
      "cell_type": "code",
      "metadata": {
        "id": "ToPTM62ctMD-"
      },
      "source": [
        "!sudo -u postgres psql -U postgres -d acronyms -f postgres-database/setUpDb.sql"
      ],
      "execution_count": null,
      "outputs": []
    },
    {
      "cell_type": "markdown",
      "metadata": {
        "id": "vQkhObhRau1a"
      },
      "source": [
        "## 2. Data Collection"
      ]
    },
    {
      "cell_type": "code",
      "metadata": {
        "id": "r9sqvdk9a8le"
      },
      "source": [
        "# Skip downloading from source if data is already in Google Drive\n",
        "# If so, copy from Google Drive\n",
        "# Else, download and take a backup to Google Drive\n",
        "\n",
        "import os.path\n",
        "\n",
        "if os.path.exists('{}/train.zip'.format(BasePath)) and os.path.exists('{}/test.zip'.format(BasePath)):\n",
        "    DataCollected = True\n",
        "    !unzip -q \"$BasePath/train.zip\"\n",
        "    !unzip -q \"$BasePath/test.zip\"\n",
        "else:\n",
        "    DataCollected = False"
      ],
      "execution_count": null,
      "outputs": []
    },
    {
      "cell_type": "code",
      "metadata": {
        "id": "HTk22L1zYbxP"
      },
      "source": [
        "if not DataCollected:\n",
        "    !python get_urls.py"
      ],
      "execution_count": null,
      "outputs": []
    },
    {
      "cell_type": "code",
      "metadata": {
        "id": "RbiM-3SUYtIc"
      },
      "source": [
        "if not DataCollected:\n",
        "    !python download.py\n",
        "    !zip -rq \"$BasePath/train.zip\" data/train\n",
        "    !zip -rq \"$BasePath/test.zip\" data/test"
      ],
      "execution_count": null,
      "outputs": []
    },
    {
      "cell_type": "code",
      "metadata": {
        "id": "zm2HoE2QdrFv"
      },
      "source": [
        "!ls data/train/*.htm | wc -l\n",
        "!ls data/test/*.htm | wc -l"
      ],
      "execution_count": null,
      "outputs": []
    },
    {
      "cell_type": "markdown",
      "metadata": {
        "id": "QfeLlgw8rVrZ"
      },
      "source": [
        "## 3. Data Pre-processing"
      ]
    },
    {
      "cell_type": "code",
      "metadata": {
        "id": "vCXssf0zwGD7"
      },
      "source": [
        "!python add2db.py"
      ],
      "execution_count": null,
      "outputs": []
    },
    {
      "cell_type": "code",
      "metadata": {
        "id": "ApNPXdNBsepp"
      },
      "source": [
        "import psycopg2\n",
        "import pandas as pd\n",
        "\n",
        "def create_pandas_table(sql_query, database):\n",
        "    table = pd.read_sql_query(sql_query, database)\n",
        "    return table\n",
        "\n",
        "conn = psycopg2.connect(database=\"acronyms\", user=\"postgres\", password=\"pgpwd\", host=\"localhost\")\n",
        "cur = conn.cursor()\n",
        "\n",
        "os.makedirs('data/db')\n",
        "for tbl in ('acronyms', 'definitions', 'acronyms_definitions', 'true_definitions'):\n",
        "    df = create_pandas_table(\"SELECT * FROM {}\".format(tbl), conn)\n",
        "    print(tbl, len(df))\n",
        "    df.to_csv('data/db/{}.csv'.format(tbl))\n",
        "\n",
        "cur.close()\n",
        "conn.close()"
      ],
      "execution_count": null,
      "outputs": []
    },
    {
      "cell_type": "code",
      "metadata": {
        "id": "BibX5GRaJ9Bq"
      },
      "source": [
        "!rm -f acronymsDb.zip; zip acronymsDb.zip data/db/*.csv"
      ],
      "execution_count": null,
      "outputs": []
    },
    {
      "cell_type": "markdown",
      "metadata": {
        "id": "aqUQnXSi8JRY"
      },
      "source": [
        "## 4. Training & Validation"
      ]
    },
    {
      "cell_type": "code",
      "metadata": {
        "id": "m-UoQA91Z8j9"
      },
      "source": [
        "!python train.py"
      ],
      "execution_count": null,
      "outputs": []
    },
    {
      "cell_type": "markdown",
      "metadata": {
        "id": "89OuzgdN8Qag"
      },
      "source": [
        "## 5. Make Predictions"
      ]
    },
    {
      "cell_type": "code",
      "metadata": {
        "id": "QjEsTifvIr1l"
      },
      "source": [
        "!python serve.py svc 'ALU is an essential part of a computer along with memory and peripherals.'"
      ],
      "execution_count": null,
      "outputs": []
    },
    {
      "cell_type": "code",
      "metadata": {
        "id": "FpuzwW9yA6SK"
      },
      "source": [
        ""
      ],
      "execution_count": null,
      "outputs": []
    }
  ]
}