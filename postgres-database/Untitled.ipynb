{
 "cells": [
  {
   "cell_type": "code",
   "execution_count": 3,
   "metadata": {},
   "outputs": [],
   "source": [
    "# dbFunctions.py [Rachel Gardner]\n",
    "#\n",
    "# This file defines the AcronymsDatabase class, which\n",
    "# interfaces with the PostgreSQL backend to store acronyms, definitions\n",
    "# and their contexts.\n",
    "\n",
    "import psycopg2\n",
    "import json\n",
    "from collections import Counter\n",
    "\n",
    "class AcronymDatabase:\n",
    "    def __init__(self):\n",
    "        conn = psycopg2.connect(database=\"acronyms\", user=\"acronym_user\", password=\"cs221\", host=\"localhost\")\n",
    "        self.conn = conn\n",
    "        self.cur = conn.cursor()\n",
    "\n",
    "    def addAcronym(self, acronym):\n",
    "        self.cur.execute(\"INSERT INTO acronyms (acronym) VALUES (%s) RETURNING aid\", (acronym,))\n",
    "        return self.cur.fetchone()[0]\n",
    "\n",
    "    def getAcronym(self, acronym):\n",
    "        self.cur.execute(\"SELECT aid FROM acronyms WHERE acronym=%s\", (acronym,))\n",
    "        result = self.cur.fetchone()\n",
    "        return result[0] if result else None\n",
    "\n",
    "    def addDefinition(self, definition, context, url, aID = False):\n",
    "        self.cur.execute(\"INSERT INTO definitions (definition, context, url) VALUES (%s, %s, %s) RETURNING did\", (definition,context, url))\n",
    "        dID = self.cur.fetchone()[0]\n",
    "\n",
    "        # if acronym exists, link this definition to existing acronym\n",
    "        if (aID):\n",
    "            self.cur.execute(\"INSERT INTO acronyms_definitions (aid, did) VALUES (%s, %s)\", (aID, dID))\n",
    "        \n",
    "        return dID\n",
    "\n",
    "    def addTrueDefinition(self, acronym, truedef, url):\n",
    "        self.cur.execute(\"SELECT true_definition FROM true_definitions WHERE acronym=%s AND url=%s\", (acronym,url))\n",
    "        result = self.cur.fetchone()\n",
    "        if(not result): result = None\n",
    "        else: result=result[0]\n",
    "        if(result is None):\n",
    "            self.cur.execute(\"INSERT INTO true_definitions (acronym, true_definition, url) VALUES (%s, %s, %s)\", (acronym,truedef,url))\n",
    "\n",
    "    def getTrueDefinition(self, acronym, url):\n",
    "        self.cur.execute(\"SELECT true_definition FROM true_definitions WHERE acronym=%s AND url=%s\", (acronym,url))\n",
    "        result = self.cur.fetchone()\n",
    "        return result[0] if result else None\n",
    "\n",
    "    \n",
    "    def addContext(self, context):\n",
    "        self.cur.execute(\"INSERT INTO context (context) VALUES (%s) RETURNING cid\", (context,))\n",
    "        return self.cur.fetchone()[0]\n",
    "\n",
    "    def acronymHasDefinition(self,aID, definition):\n",
    "        self.cur.execute(\"SELECT definitions.DID from definitions JOIN acronyms_definitions ON acronyms_definitions.DID = definitions.DID WHERE definitions.definition = %s AND acronyms_definitions.AID = %s\", (definition, aID))\n",
    "        result = self.cur.fetchone()\n",
    "        return result[0] if result else None\n",
    "\n",
    "    def addContext(self,definition_id, context):\n",
    "        newContextJSON = json.dumps(context)\n",
    "        self.cur.execute(\"UPDATE context SET context=%s FROM definitions WHERE DID=%s\", (newContextJSON,definition_id))\n",
    "\n",
    "    def updateContext(self, definition_id, context):\n",
    "        self.cur.execute(\"SELECT context FROM definitions JOIN context ON definitions.CID = context.CID WHERE DID = %s LIMIT 1;\", (definition_id,))\n",
    "        oldContextJSON = self.cur.fetchone()[0]\n",
    "        oldContext = Counter(json.loads(oldContextJSON))\n",
    "        newContext = oldContext + context\n",
    "        newContextJSON = json.dumps(newContext)\n",
    "        self.cur.execute(\"UPDATE context SET context=%s FROM definitions WHERE DID=%s\", (newContextJSON,definition_id))\n",
    "\n",
    "    def getContextAcronymList(self):\n",
    "        self.cur.execute(\"SELECT did, context, definition FROM definitions\")\n",
    "        result = self.cur.fetchall()\n",
    "        ret = []\n",
    "        for elem in result:\n",
    "            did = str(elem[0])\n",
    "            self.cur.execute(\"SELECT aid FROM acronyms_definitions WHERE did=%s\" ,(did,))\n",
    "            aid = str(self.cur.fetchone()[0])\n",
    "            self.cur.execute(\"SELECT acronym FROM acronyms WHERE aid=%s\", (aid,))\n",
    "            acronym = self.cur.fetchone()[0]\n",
    "            ret.append((acronym, elem[1], elem[2]))\n",
    "        return ret\n",
    "\n",
    "    def clearTrueDefTable(self):\n",
    "        self.cur.execute(\"DELETE FROM true_definitions\")\n",
    "\n",
    "    def clearAcronymTables(self):\n",
    "        self.cur.execute(\"DELETE FROM definitions\")\n",
    "        self.cur.execute(\"DELETE FROM acronyms\")\n",
    "        self.cur.execute(\"DELETE FROM acronyms_definitions\")\n",
    "\n",
    "    def close(self):\n",
    "        self.conn.commit()  # make the changes to the database persistent\n",
    "        self.cur.close()\n",
    "        self.conn.close()\n"
   ]
  },
  {
   "cell_type": "code",
   "execution_count": 2,
   "metadata": {},
   "outputs": [
    {
     "name": "stdout",
     "output_type": "stream",
     "text": [
      "Collecting psycopg2\n",
      "  Downloading psycopg2-2.8.6-cp37-cp37m-win_amd64.whl (1.1 MB)\n",
      "Installing collected packages: psycopg2\n",
      "Successfully installed psycopg2-2.8.6\n"
     ]
    }
   ],
   "source": [
    "!pip install psycopg2"
   ]
  },
  {
   "cell_type": "code",
   "execution_count": 8,
   "metadata": {},
   "outputs": [
    {
     "name": "stdout",
     "output_type": "stream",
     "text": [
      "{'user': 'postgres', 'dbname': 'test', 'host': '127.0.0.1', 'port': '5432', 'tty': '', 'options': '', 'sslmode': 'prefer', 'sslcompression': '0', 'krbsrvname': 'postgres', 'target_session_attrs': 'any'} \n",
      "\n",
      "You are connected to -  ('PostgreSQL 12.4, compiled by Visual C++ build 1914, 64-bit',) \n",
      "\n"
     ]
    }
   ],
   "source": [
    "import psycopg2\n",
    "connection = psycopg2.connect(user = \"postgres\",\n",
    "                                  password = \"Chandra@12\",\n",
    "                                  host = \"127.0.0.1\",\n",
    "                                  port = \"5432\",\n",
    "                                  database = \"test\")\n",
    "\n",
    "cursor = connection.cursor()\n",
    "    # Print PostgreSQL Connection properties\n",
    "print( connection.get_dsn_parameters(),\"\\n\")\n",
    "\n",
    "    # Print PostgreSQL version\n",
    "cursor.execute(\"SELECT version();\")\n",
    "record = cursor.fetchone()\n",
    "print(\"You are connected to - \", record,\"\\n\")\n",
    "\n"
   ]
  },
  {
   "cell_type": "code",
   "execution_count": 9,
   "metadata": {},
   "outputs": [
    {
     "name": "stdout",
     "output_type": "stream",
     "text": [
      "PostgreSQL connection is closed\n"
     ]
    }
   ],
   "source": [
    "cursor.close()\n",
    "connection.close()\n",
    "print(\"PostgreSQL connection is closed\")"
   ]
  },
  {
   "cell_type": "code",
   "execution_count": null,
   "metadata": {},
   "outputs": [],
   "source": []
  }
 ],
 "metadata": {
  "kernelspec": {
   "display_name": "Python 3",
   "language": "python",
   "name": "python3"
  },
  "language_info": {
   "codemirror_mode": {
    "name": "ipython",
    "version": 3
   },
   "file_extension": ".py",
   "mimetype": "text/x-python",
   "name": "python",
   "nbconvert_exporter": "python",
   "pygments_lexer": "ipython3",
   "version": "3.7.6"
  }
 },
 "nbformat": 4,
 "nbformat_minor": 4
}
